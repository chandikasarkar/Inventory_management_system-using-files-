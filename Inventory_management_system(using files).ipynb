{
 "cells": [
  {
   "cell_type": "markdown",
   "id": "f2eef3b0-4b2b-4d27-ae29-d4b4a2e34f54",
   "metadata": {},
   "source": [
    "# Product Details\n",
    "1. Product id\n",
    "2. Name of product\n",
    "3. Price of the product\n",
    "4. Quantity\n",
    "   "
   ]
  },
  {
   "cell_type": "code",
   "execution_count": 113,
   "id": "21e8012c-f3d9-43ad-a34e-001bd731c447",
   "metadata": {},
   "outputs": [
    {
     "name": "stdin",
     "output_type": "stream",
     "text": [
      "Enter product ID 2\n",
      "enter product quntity 444\n",
      "Enter Customer Name kj.ch\n",
      "Enter Customer ph no 857645837\n",
      "Enter Customer Mail id gmvj@mail\n"
     ]
    },
    {
     "name": "stdout",
     "output_type": "stream",
     "text": [
      "TIME Thu Jul 11 03:28:15 2024\n",
      "we are not having enough product\n",
      "we are having only  100 quantity\n",
      "Would you like to purchase it?\n"
     ]
    },
    {
     "name": "stdin",
     "output_type": "stream",
     "text": [
      "Press Y/n  y\n"
     ]
    },
    {
     "name": "stdout",
     "output_type": "stream",
     "text": [
      "--------------------------------------------------\n",
      "Product Name      : milky\n",
      "Product Price     : 5\n",
      "Product Quantity  : 100\n",
      "--------------------------------------------------\n",
      "Billing Amount    : 2220\n",
      "--------------------------------------------------\n",
      "--------------------------------------------------\n",
      "INVENTORY UPDATED\n"
     ]
    }
   ],
   "source": [
    "import time\n",
    "#Reading the inventory\n",
    "file = open (\"Inventory.txt\",'r')\n",
    "products=file.read().split(\"\\n\")\n",
    "file.close()\n",
    "\n",
    "#Taking user input\n",
    "ui_prod_id        = input(\"Enter product ID\")\n",
    "ui_prod_quantity  =input(\"enter product quntity\")\n",
    "ui_username       = input(\"Enter Customer Name\")\n",
    "ui_phone          = input(\"Enter Customer ph no\")\n",
    "ui_mail_id        = input(\"Enter Customer Mail id\")\n",
    "print(\"TIME\",time.ctime())\n",
    "\n",
    "updated_product_list=[]\n",
    "\n",
    "#Going through user product details\n",
    "for product in products:\n",
    "    \n",
    "    product_details=product.split(',')\n",
    "    \n",
    "    if (product_details[0] == ui_prod_id):\n",
    "    #checking if the product exist or not\n",
    "        if(int(ui_prod_quantity) <= int(product_details[3])):\n",
    "        #checking we are having enough Quantity or not    \n",
    "            print('-'*50)\n",
    "            print('Product Name      :',product_details[1])\n",
    "            print('Product Price     :',product_details[2])\n",
    "            print('Product Quantity  :',ui_prod_quantity)\n",
    "            print('-'*50)\n",
    "            print('Billing Amount    :',int(ui_prod_quantity) * int(product_details[2]))\n",
    "            print('-'*50)\n",
    "            #updating inventory list\n",
    "            product_details[3]=str(int(product_details[3]) - int(ui_prod_quantity))\n",
    "\n",
    "            #genarating Sales in Sales.txt\n",
    "            fd=open(\"Sales.txt\",'a')\n",
    "            sales_details=\"Customer name\"+ui_username + \", Customer phone no\" + ui_phone + \", Customer mail id\" + ui_mail_id + \", Product ID\" + ui_prod_id + \", Product Quantity\" + ui_prod_quantity+ \" total amount ,\"+str(int(ui_prod_quantity) * int(product_details[2]))+\",\"+time.ctime()+\"\\n\"\n",
    "            fd.write(sales_details)\n",
    "            fd.close()\n",
    "        \n",
    "        else:\n",
    "            print(\"we are not having enough product\")\n",
    "            print(\"we are having only \",product_details[3],\"quantity\")\n",
    "            print(\"Would you like to purchase it?\")\n",
    "\n",
    "            ch= input('Press Y/n ')\n",
    "            if (ch == 'Y' or ch=='y'):\n",
    "                print('-'*50)\n",
    "                print('Product Name      :',product_details[1])\n",
    "                print('Product Price     :',product_details[2])\n",
    "                print('Product Quantity  :',product_details[3])\n",
    "                print('-'*50)\n",
    "                print('Billing Amount    :',int(ui_prod_quantity) * int(product_details[2]))\n",
    "                print('-'*50)\n",
    "                #updating inventory list\n",
    "                product_details[3]=\"0\"\n",
    "\n",
    "                #genarating Sales in Sales.txt\n",
    "                fd=open(\"Sales.txt\",'a')\n",
    "                sales_details=\"Customer name\"+ui_username + \", Customer phone no\" + ui_phone + \", Customer mail id\" + ui_mail_id + \", Product ID\" + ui_prod_id + \", Product Quantity\" + product_details[3]+ \" total amount ,\"+str(int(ui_prod_quantity) * int(product_details[2]))+\",\"+time.ctime()+\"\\n\"\n",
    "                fd.write(sales_details)\n",
    "                fd.close()\n",
    "            \n",
    "            else:\n",
    "                print(\"Thank You!\")\n",
    "       \n",
    "    updated_product_list.append(product_details)\n",
    "\n",
    "lst=[]\n",
    "\n",
    "for i in updated_product_list:\n",
    "    prod=i[0]+\",\"+ i[1]+\",\"+i[2]+\",\"+i[3]+'\\n'\n",
    "    lst.append(prod)\n",
    "\n",
    "lst[-1]=lst[-1][:-1]\n",
    "file = open (\"Inventory.txt\",'w')\n",
    "\n",
    "for i in lst:\n",
    "    file.write(i)\n",
    "    \n",
    "file.close()\n",
    "print('-'*50)\n",
    "print(\"INVENTORY UPDATED\")"
   ]
  },
  {
   "cell_type": "code",
   "execution_count": null,
   "id": "e0f1d3d7-ce1c-4e8b-a4be-81ef665530ea",
   "metadata": {},
   "outputs": [],
   "source": []
  }
 ],
 "metadata": {
  "kernelspec": {
   "display_name": "Python 3 (ipykernel)",
   "language": "python",
   "name": "python3"
  },
  "language_info": {
   "codemirror_mode": {
    "name": "ipython",
    "version": 3
   },
   "file_extension": ".py",
   "mimetype": "text/x-python",
   "name": "python",
   "nbconvert_exporter": "python",
   "pygments_lexer": "ipython3",
   "version": "3.12.4"
  }
 },
 "nbformat": 4,
 "nbformat_minor": 5
}
